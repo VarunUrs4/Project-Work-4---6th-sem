{
 "cells": [
  {
   "cell_type": "code",
   "execution_count": 1,
   "id": "7fdac5ec",
   "metadata": {},
   "outputs": [],
   "source": [
    "from tensorflow import keras\n",
    "from keras.models import Sequential\n",
    "from keras.layers import Conv2D, MaxPooling2D, Flatten, Dense\n",
    "\n",
    "# Create a list of the directories containing your training, validation, and testing datasets:\n",
    "training_dir = 'train/'\n",
    "validation_dir = 'validation/'\n",
    "testing_dir = 'test/'\n",
    "\n",
    "# Create a list of the labels for each class in your dataset:\n",
    "classes = ['apple','banana','beetroot','bell pepper','cabbage','capsicum','carrot','cauliflower','chilli pepper','corn','cucumber','eggplant','garlic','ginger','grapes','jalepeno','kiwi','lemon','lettuce','mango','onion','orange','paprika','pear','peas','pineapple','pomegranate','potato','raddish','soy beans','spinach','sweetcorn','sweetpotato','tomato','turnip','watermelon']"
   ]
  },
  {
   "cell_type": "code",
   "execution_count": 2,
   "id": "84e4eaf2",
   "metadata": {},
   "outputs": [
    {
     "name": "stdout",
     "output_type": "stream",
     "text": [
      "Found 3055 images belonging to 36 classes.\n"
     ]
    }
   ],
   "source": [
    "\n",
    "# Create a generator for the training dataset:\n",
    "train_generator = keras.preprocessing.image.ImageDataGenerator(\n",
    "    rescale=1./255,\n",
    "    rotation_range=40,\n",
    "    width_shift_range=0.2,\n",
    "    height_shift_range=0.2,\n",
    "    horizontal_flip=True,\n",
    "    vertical_flip=True,\n",
    "    fill_mode='nearest'\n",
    ")\n",
    "\n",
    "train_data = train_generator.flow_from_directory(\n",
    "    training_dir,\n",
    "    target_size=(224, 224),\n",
    "    batch_size=32,\n",
    "    class_mode='categorical',\n",
    "    shuffle=True\n",
    ")"
   ]
  },
  {
   "cell_type": "code",
   "execution_count": 3,
   "id": "94224f0d",
   "metadata": {},
   "outputs": [
    {
     "name": "stdout",
     "output_type": "stream",
     "text": [
      "Found 351 images belonging to 36 classes.\n"
     ]
    }
   ],
   "source": [
    "\n",
    "# Create a generator for the validation dataset:\n",
    "validation_generator = keras.preprocessing.image.ImageDataGenerator(\n",
    "    rescale=1./255\n",
    ")\n",
    "\n",
    "validation_data = validation_generator.flow_from_directory(\n",
    "    validation_dir,\n",
    "    target_size=(224, 224),\n",
    "    batch_size=32,\n",
    "    class_mode='categorical',\n",
    "    shuffle=False\n",
    ")"
   ]
  },
  {
   "cell_type": "code",
   "execution_count": 4,
   "id": "e389e5f4",
   "metadata": {},
   "outputs": [
    {
     "name": "stdout",
     "output_type": "stream",
     "text": [
      "Found 359 images belonging to 36 classes.\n"
     ]
    }
   ],
   "source": [
    "# Create a generator for the testing dataset:\n",
    "testing_generator = keras.preprocessing.image.ImageDataGenerator(\n",
    "    rescale=1./255\n",
    ")\n",
    "\n",
    "testing_data = testing_generator.flow_from_directory(\n",
    "    testing_dir,\n",
    "    target_size=(224, 224),\n",
    "    batch_size=32,\n",
    "    class_mode='categorical',\n",
    "    shuffle=False\n",
    ")"
   ]
  },
  {
   "cell_type": "code",
   "execution_count": 7,
   "id": "5e0b4e0f",
   "metadata": {},
   "outputs": [],
   "source": [
    "# Define the model architecture:\n",
    "model = Sequential()\n",
    "\n",
    "model.add(Conv2D(32, (3, 3), padding='same',\n",
    "          activation='relu', input_shape=(224, 224, 3)))\n",
    "model.add(MaxPooling2D((2, 2), strides=(2, 2)))\n",
    "\n",
    "model.add(Conv2D(40, (3, 3), padding='same', activation='relu'))\n",
    "model.add(MaxPooling2D((2, 2), strides=(2, 2)))\n",
    "\n",
    "model.add(Conv2D(54, (3, 3), padding='same', activation='relu'))\n",
    "model.add(MaxPooling2D((2, 2), strides=(2, 2)))\n",
    "\n",
    "model.add(Conv2D(64, (3, 3), padding='same', activation='relu'))\n",
    "model.add(MaxPooling2D((2, 2), strides=(2, 2)))\n",
    "\n",
    "model.add(Flatten())\n",
    "model.add(Dense(128, activation='relu'))\n",
    "model.add(Dense(len(classes), activation='softmax'))"
   ]
  },
  {
   "cell_type": "code",
   "execution_count": 8,
   "id": "713d0b75",
   "metadata": {},
   "outputs": [],
   "source": [
    "# Compile the model:\n",
    "model.compile(loss='categorical_crossentropy',\n",
    "              optimizer='adam', metrics=['accuracy'])"
   ]
  },
  {
   "cell_type": "code",
   "execution_count": 10,
   "id": "bb1fb83f",
   "metadata": {},
   "outputs": [
    {
     "name": "stdout",
     "output_type": "stream",
     "text": [
      "Epoch 1/10\n",
      " 3/96 [..............................] - ETA: 3:16 - loss: 3.6361 - accuracy: 0.0208"
     ]
    },
    {
     "name": "stderr",
     "output_type": "stream",
     "text": [
      "C:\\Python310\\lib\\site-packages\\PIL\\Image.py:959: UserWarning: Palette images with Transparency expressed in bytes should be converted to RGBA images\n",
      "  warnings.warn(\n"
     ]
    },
    {
     "name": "stdout",
     "output_type": "stream",
     "text": [
      "96/96 [==============================] - 193s 2s/step - loss: 3.4113 - accuracy: 0.0638 - val_loss: 3.1064 - val_accuracy: 0.1026\n",
      "Epoch 2/10\n",
      "96/96 [==============================] - 193s 2s/step - loss: 3.0394 - accuracy: 0.1319 - val_loss: 2.6107 - val_accuracy: 0.2051\n",
      "Epoch 3/10\n",
      "96/96 [==============================] - 193s 2s/step - loss: 2.7279 - accuracy: 0.1912 - val_loss: 2.2365 - val_accuracy: 0.2877\n",
      "Epoch 4/10\n",
      "96/96 [==============================] - 183s 2s/step - loss: 2.5324 - accuracy: 0.2301 - val_loss: 2.1996 - val_accuracy: 0.2991\n",
      "Epoch 5/10\n",
      "96/96 [==============================] - 177s 2s/step - loss: 2.4351 - accuracy: 0.2592 - val_loss: 1.9559 - val_accuracy: 0.4046\n",
      "Epoch 6/10\n",
      "96/96 [==============================] - 166s 2s/step - loss: 2.3139 - accuracy: 0.2897 - val_loss: 1.8321 - val_accuracy: 0.4330\n",
      "Epoch 7/10\n",
      "96/96 [==============================] - 192s 2s/step - loss: 2.2557 - accuracy: 0.3057 - val_loss: 1.8272 - val_accuracy: 0.4330\n",
      "Epoch 8/10\n",
      "96/96 [==============================] - 161s 2s/step - loss: 2.1848 - accuracy: 0.3260 - val_loss: 1.6899 - val_accuracy: 0.4501\n",
      "Epoch 9/10\n",
      "96/96 [==============================] - 160s 2s/step - loss: 2.1641 - accuracy: 0.3227 - val_loss: 1.6120 - val_accuracy: 0.4644\n",
      "Epoch 10/10\n",
      "96/96 [==============================] - 166s 2s/step - loss: 2.1056 - accuracy: 0.3588 - val_loss: 1.6377 - val_accuracy: 0.4815\n"
     ]
    },
    {
     "data": {
      "text/plain": [
       "<keras.callbacks.History at 0x1e002529000>"
      ]
     },
     "execution_count": 10,
     "metadata": {},
     "output_type": "execute_result"
    }
   ],
   "source": [
    "# # Train the model:\n",
    "model.fit(\n",
    "    train_data,\n",
    "    steps_per_epoch=len(train_data),\n",
    "    epochs=10,\n",
    "    validation_data=validation_data,\n",
    "    validation_steps=len(validation_data)\n",
    ")"
   ]
  },
  {
   "cell_type": "code",
   "execution_count": 11,
   "id": "b2cf6ddd",
   "metadata": {},
   "outputs": [
    {
     "name": "stdout",
     "output_type": "stream",
     "text": [
      "12/12 [==============================] - 11s 880ms/step - loss: 1.6402 - accuracy: 0.4819\n",
      "Test loss: 1.6401960849761963\n",
      "Test accuracy: 0.4818941652774811\n"
     ]
    }
   ],
   "source": [
    "# # Evaluate the model:\n",
    "score = model.evaluate(\n",
    "    testing_data,\n",
    "    steps=len(testing_data)\n",
    ")\n",
    "\n",
    "print('Test loss:', score[0])\n",
    "print('Test accuracy:', score[1])\n"
   ]
  },
  {
   "cell_type": "code",
   "execution_count": 12,
   "id": "a96c3666",
   "metadata": {},
   "outputs": [],
   "source": [
    "# # Save the model:\n",
    "model.save('model4.h5')\n"
   ]
  },
  {
   "cell_type": "code",
   "execution_count": 13,
   "id": "30178be0",
   "metadata": {
    "scrolled": true
   },
   "outputs": [
    {
     "name": "stdout",
     "output_type": "stream",
     "text": [
      "Model: \"sequential_2\"\n",
      "_________________________________________________________________\n",
      " Layer (type)                Output Shape              Param #   \n",
      "=================================================================\n",
      " conv2d_6 (Conv2D)           (None, 224, 224, 32)      896       \n",
      "                                                                 \n",
      " max_pooling2d_6 (MaxPooling  (None, 112, 112, 32)     0         \n",
      " 2D)                                                             \n",
      "                                                                 \n",
      " conv2d_7 (Conv2D)           (None, 112, 112, 40)      11560     \n",
      "                                                                 \n",
      " max_pooling2d_7 (MaxPooling  (None, 56, 56, 40)       0         \n",
      " 2D)                                                             \n",
      "                                                                 \n",
      " conv2d_8 (Conv2D)           (None, 56, 56, 54)        19494     \n",
      "                                                                 \n",
      " max_pooling2d_8 (MaxPooling  (None, 28, 28, 54)       0         \n",
      " 2D)                                                             \n",
      "                                                                 \n",
      " conv2d_9 (Conv2D)           (None, 28, 28, 64)        31168     \n",
      "                                                                 \n",
      " max_pooling2d_9 (MaxPooling  (None, 14, 14, 64)       0         \n",
      " 2D)                                                             \n",
      "                                                                 \n",
      " flatten_2 (Flatten)         (None, 12544)             0         \n",
      "                                                                 \n",
      " dense_4 (Dense)             (None, 128)               1605760   \n",
      "                                                                 \n",
      " dense_5 (Dense)             (None, 36)                4644      \n",
      "                                                                 \n",
      "=================================================================\n",
      "Total params: 1,673,522\n",
      "Trainable params: 1,673,522\n",
      "Non-trainable params: 0\n",
      "_________________________________________________________________\n"
     ]
    }
   ],
   "source": [
    "model.summary()"
   ]
  },
  {
   "cell_type": "code",
   "execution_count": null,
   "id": "64ee94de",
   "metadata": {},
   "outputs": [],
   "source": []
  }
 ],
 "metadata": {
  "kernelspec": {
   "display_name": "Python 3 (ipykernel)",
   "language": "python",
   "name": "python3"
  },
  "language_info": {
   "codemirror_mode": {
    "name": "ipython",
    "version": 3
   },
   "file_extension": ".py",
   "mimetype": "text/x-python",
   "name": "python",
   "nbconvert_exporter": "python",
   "pygments_lexer": "ipython3",
   "version": "3.10.4"
  }
 },
 "nbformat": 4,
 "nbformat_minor": 5
}
